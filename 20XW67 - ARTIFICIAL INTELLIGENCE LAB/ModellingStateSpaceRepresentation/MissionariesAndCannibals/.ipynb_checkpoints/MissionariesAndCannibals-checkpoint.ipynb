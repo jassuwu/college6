{
 "cells": [
  {
   "cell_type": "code",
   "execution_count": 1,
   "id": "be0f8a04",
   "metadata": {},
   "outputs": [],
   "source": [
    "import numpy as np\n",
    "import pandas as pd\n",
    "import matplotlib.pyplot as plt"
   ]
  },
  {
   "cell_type": "code",
   "execution_count": 2,
   "id": "f93060ef",
   "metadata": {},
   "outputs": [],
   "source": [
    "class RiverAndBanks:\n",
    "    def __init__(self, noOfMissionaries, noOfCannibals):\n",
    "        self.leftSide = {\"M\": noOfMissionaries, \"C\": noOfCannibals}\n",
    "        self.rightSide = {\"M\": 0, \"C\": 0}\n",
    "        self.boatSide = \"L\" \n",
    "    def transport(self, MCount, CCount):\n",
    "        if self.boatSide == \"L\":\n",
    "            self.leftSide[\"M\"]-=MCount\n",
    "            self.rightSide[\"M\"]+=MCount\n",
    "            self.leftSide[\"C\"]-=CCount\n",
    "            self.rightSide[\"C\"]+=CCount\n",
    "            self.boatSide = \"R\"\n",
    "        else:\n",
    "            self.leftSide[\"M\"]+=MCount\n",
    "            self.rightSide[\"M\"]-=MCount\n",
    "            self.leftSide[\"C\"]+=CCount\n",
    "            self.rightSide[\"C\"]-=CCount\n",
    "            self.boatSide = \"L\"\n",
    "    def displayState(self):\n",
    "        print(f\"{self.leftSide['M']}M{self.leftSide['C']}C| {self.boatSide} |{self.rightSide['M']}M{self.rightSide['C']}C\")"
   ]
  },
  {
   "cell_type": "code",
   "execution_count": 3,
   "id": "d37d1a81",
   "metadata": {},
   "outputs": [
    {
     "name": "stdout",
     "output_type": "stream",
     "text": [
      "3M3C| L |0M0C\n",
      "2M2C| R |1M1C\n",
      "3M2C| L |0M1C\n"
     ]
    }
   ],
   "source": [
    "RAB = RiverAndBanks(3,3)\n",
    "RAB.displayState()\n",
    "RAB.transport(1,1)\n",
    "RAB.displayState()\n",
    "RAB.transport(1, 0)\n",
    "RAB.displayState()"
   ]
  }
 ],
 "metadata": {
  "kernelspec": {
   "display_name": "Python 3 (ipykernel)",
   "language": "python",
   "name": "python3"
  },
  "language_info": {
   "codemirror_mode": {
    "name": "ipython",
    "version": 3
   },
   "file_extension": ".py",
   "mimetype": "text/x-python",
   "name": "python",
   "nbconvert_exporter": "python",
   "pygments_lexer": "ipython3",
   "version": "3.9.7"
  }
 },
 "nbformat": 4,
 "nbformat_minor": 5
}
