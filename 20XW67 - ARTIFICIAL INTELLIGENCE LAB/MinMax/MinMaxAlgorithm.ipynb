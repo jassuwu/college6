{
 "cells": [
  {
   "cell_type": "code",
   "execution_count": 1,
   "id": "cf9b9b2e",
   "metadata": {},
   "outputs": [],
   "source": [
    "import math"
   ]
  },
  {
   "cell_type": "code",
   "execution_count": 5,
   "id": "65d55abe",
   "metadata": {},
   "outputs": [],
   "source": [
    "# input\n",
    "scores = [3, 5, 2, 9, 12, 5, 23, 23]\n",
    "heightOfTheTree = math.log2(len(scores))"
   ]
  },
  {
   "cell_type": "code",
   "execution_count": 30,
   "id": "fa9701ea",
   "metadata": {},
   "outputs": [],
   "source": [
    "def findOptimalValue(scores):\n",
    "    i = math.log2(len(scores))\n",
    "    ip = scores\n",
    "    while i != 0:\n",
    "        nextLevel = []\n",
    "        for idx in range(0, len(ip), 2):\n",
    "            if i % 2:\n",
    "                nextLevel.append(max(ip[idx], ip[idx+1]))\n",
    "            else:\n",
    "                nextLevel.append(min(ip[idx], ip[idx+1]))\n",
    "        ip = nextLevel\n",
    "        i-=1\n",
    "    return ip[0]"
   ]
  },
  {
   "cell_type": "code",
   "execution_count": 31,
   "id": "2090f595",
   "metadata": {},
   "outputs": [
    {
     "data": {
      "text/plain": [
       "12"
      ]
     },
     "execution_count": 31,
     "metadata": {},
     "output_type": "execute_result"
    }
   ],
   "source": [
    "findOptimalValue(scores)"
   ]
  },
  {
   "cell_type": "markdown",
   "id": "b54b7085",
   "metadata": {},
   "source": [
    "# IDEK if this is right."
   ]
  }
 ],
 "metadata": {
  "kernelspec": {
   "display_name": "Python 3 (ipykernel)",
   "language": "python",
   "name": "python3"
  },
  "language_info": {
   "codemirror_mode": {
    "name": "ipython",
    "version": 3
   },
   "file_extension": ".py",
   "mimetype": "text/x-python",
   "name": "python",
   "nbconvert_exporter": "python",
   "pygments_lexer": "ipython3",
   "version": "3.9.7"
  }
 },
 "nbformat": 4,
 "nbformat_minor": 5
}
