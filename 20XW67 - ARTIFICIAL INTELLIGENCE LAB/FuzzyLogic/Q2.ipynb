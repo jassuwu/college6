{
 "cells": [
  {
   "cell_type": "code",
   "execution_count": 1,
   "metadata": {},
   "outputs": [],
   "source": [
    "# Given Fuzzy sets\n",
    "A = {2:1, 3:0.4, 1:0.6, 4:0.2}\n",
    "B = {5:0, 7:0.2, 6:0.2, 8:0.8}\n",
    "C = {2:0.5, 3:0.6, 1:0.1, 4:0.9}"
   ]
  },
  {
   "cell_type": "code",
   "execution_count": 4,
   "metadata": {},
   "outputs": [],
   "source": [
    "def cartesianProduct(A, B):\n",
    "    return {row: {col: min(rowval, colval)\\\n",
    "        for col, colval in B.items()} for row, rowval in A.items()}\n",
    "\n",
    "\n",
    "# R \n",
    "# {\n",
    "#   2: {5: 0, 7: 0.2, 6: 0.2, 8: 0.8},\n",
    "#   3: {5: 0, 7: 0.2, 6: 0.2, 8: 0.4},\n",
    "#   1: {5: 0, 7: 0.2, 6: 0.2, 8: 0.6},\n",
    "#   4: {5: 0, 7: 0.2, 6: 0.2, 8: 0.2}\n",
    "# }\n",
    "# S\n",
    "# {\n",
    "#  2: {2: 0.5, 3: 0.6, 1: 0.1, 4: 0.9},\n",
    "#  3: {2: 0.4, 3: 0.4, 1: 0.1, 4: 0.4},\n",
    "#  1: {2: 0.5, 3: 0.6, 1: 0.1, 4: 0.6},\n",
    "#  4: {2: 0.2, 3: 0.2, 1: 0.1, 4: 0.2}\n",
    "# }\n",
    "\n",
    "def minMaxComposition(R, S):\n",
    "    sTranspose = {sub_key: {key: S[key][sub_key] \\\n",
    "        for key in S} \\\n",
    "            for sub_key in set.union(*map(set, S.values()))}\n",
    "    # this is the same as the above\n",
    "    # sTranspose = dict()\n",
    "    # for key in S:\n",
    "    #     for sub_key in S[key]:\n",
    "    #         if sub_key in sTranspose:\n",
    "    #             sTranspose[sub_key][key] = S[key][sub_key]\n",
    "    #         else:\n",
    "    #             sTranspose[sub_key] = {key: S[key][sub_key]}\n",
    "    if len(R) != len(S[next(iter(S))]):\n",
    "        raise Exception(\"Cannot find minmax composition.\")\n",
    "\n",
    "    RS = dict()\n",
    "    for r in R:\n",
    "        RS[r] = dict()\n",
    "        for c in S:\n",
    "            pairsToCompare = list(zip(R[r].values(), S[c].values()))\n",
    "            minOfThePairs = [min(pair) for pair in pairsToCompare]\n",
    "            RS[r][c] = max(minOfThePairs)\n",
    "\n",
    "    return RS\n",
    "\n",
    "def findCarProAndMinMaxComp():\n",
    "    R = cartesianProduct(A, B)\n",
    "    S = cartesianProduct(A, C)\n",
    "    print(R)\n",
    "    print(S)\n",
    "    print(minMaxComposition(R, S))"
   ]
  },
  {
   "cell_type": "code",
   "execution_count": 5,
   "metadata": {},
   "outputs": [
    {
     "name": "stdout",
     "output_type": "stream",
     "text": [
      "{2: {5: 0, 7: 0.2, 6: 0.2, 8: 0.8}, 3: {5: 0, 7: 0.2, 6: 0.2, 8: 0.4}, 1: {5: 0, 7: 0.2, 6: 0.2, 8: 0.6}, 4: {5: 0, 7: 0.2, 6: 0.2, 8: 0.2}}\n",
      "{2: {2: 0.5, 3: 0.6, 1: 0.1, 4: 0.9}, 3: {2: 0.4, 3: 0.4, 1: 0.1, 4: 0.4}, 1: {2: 0.5, 3: 0.6, 1: 0.1, 4: 0.6}, 4: {2: 0.2, 3: 0.2, 1: 0.1, 4: 0.2}}\n",
      "{2: {2: 0.8, 3: 0.4, 1: 0.6, 4: 0.2}, 3: {2: 0.4, 3: 0.4, 1: 0.4, 4: 0.2}, 1: {2: 0.6, 3: 0.4, 1: 0.6, 4: 0.2}, 4: {2: 0.2, 3: 0.2, 1: 0.2, 4: 0.2}}\n"
     ]
    }
   ],
   "source": [
    "findCarProAndMinMaxComp()"
   ]
  }
 ],
 "metadata": {
  "kernelspec": {
   "display_name": "Python 3",
   "language": "python",
   "name": "python3"
  },
  "language_info": {
   "codemirror_mode": {
    "name": "ipython",
    "version": 3
   },
   "file_extension": ".py",
   "mimetype": "text/x-python",
   "name": "python",
   "nbconvert_exporter": "python",
   "pygments_lexer": "ipython3",
   "version": "3.10.7"
  },
  "orig_nbformat": 4
 },
 "nbformat": 4,
 "nbformat_minor": 2
}
