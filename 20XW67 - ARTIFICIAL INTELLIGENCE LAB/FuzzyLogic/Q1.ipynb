{
 "cells": [
  {
   "cell_type": "code",
   "execution_count": 1,
   "metadata": {},
   "outputs": [],
   "source": [
    "# Given fuzzy sets\n",
    "A = {2:1, 3:0.4, 1:0.6, 4:0.2}\n",
    "B = {2:0, 3:0.2, 1:0.2, 4:0.8}"
   ]
  },
  {
   "cell_type": "code",
   "execution_count": 2,
   "metadata": {},
   "outputs": [],
   "source": [
    "def union(setA, setB):\n",
    "    if setA.keys() != setB.keys():\n",
    "        raise Exception(\"The values don't match.\")\n",
    "    return {i:max(setA[i], setB[i]) for i in setA.keys()}\n",
    "\n",
    "def intersection(setA, setB):\n",
    "    if setA.keys() != setB.keys():\n",
    "        raise Exception(\"The values don't match.\")\n",
    "    return {i:min(setA[i], setB[i]) for i in setA.keys()}\n",
    "\n",
    "def complement(setA):\n",
    "    return {i:1-setA[i] for i in setA.keys()}\n",
    "\n",
    "def DeMorgansLawHolds(setA, setB):\n",
    "    return union(complement(setA), complement(setB)) == complement(intersection(setA, setB)) \\\n",
    "        if intersection(complement(setA), complement(setB)) == complement(union(setA, setB)) else False \n",
    "\n",
    "def findUICandDML(setA, setB):\n",
    "    print(\"Union :\", union(setA, setB))\n",
    "    print(\"Intersection :\", intersection(setA, setB))\n",
    "    print(\"Complement of setA :\", complement(setA))\n",
    "    print(\"Complement of setB :\", complement(setB))\n",
    "    print(\"De Morgan's Law holds.\") if DeMorgansLawHolds(setA, setB) else print(\"De Morgan's doesn't hold.\")\n"
   ]
  },
  {
   "cell_type": "code",
   "execution_count": 3,
   "metadata": {},
   "outputs": [
    {
     "name": "stdout",
     "output_type": "stream",
     "text": [
      "Union : {2: 1, 3: 0.4, 1: 0.6, 4: 0.8}\n",
      "Intersection : {2: 0, 3: 0.2, 1: 0.2, 4: 0.2}\n",
      "Complement of setA : {2: 0, 3: 0.6, 1: 0.4, 4: 0.8}\n",
      "Complement of setB : {2: 1, 3: 0.8, 1: 0.8, 4: 0.19999999999999996}\n",
      "De Morgan's Law holds.\n"
     ]
    }
   ],
   "source": [
    "findUICandDML(A, B)"
   ]
  },
  {
   "cell_type": "code",
   "execution_count": null,
   "metadata": {},
   "outputs": [],
   "source": []
  }
 ],
 "metadata": {
  "kernelspec": {
   "display_name": "Python 3",
   "language": "python",
   "name": "python3"
  },
  "language_info": {
   "codemirror_mode": {
    "name": "ipython",
    "version": 3
   },
   "file_extension": ".py",
   "mimetype": "text/x-python",
   "name": "python",
   "nbconvert_exporter": "python",
   "pygments_lexer": "ipython3",
   "version": "3.10.7"
  },
  "orig_nbformat": 4
 },
 "nbformat": 4,
 "nbformat_minor": 2
}
